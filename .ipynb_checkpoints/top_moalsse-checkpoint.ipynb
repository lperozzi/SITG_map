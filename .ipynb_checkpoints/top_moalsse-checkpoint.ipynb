{
 "cells": [
  {
   "cell_type": "code",
   "execution_count": 1,
   "metadata": {
    "iooxa": {
     "id": {
      "block": "N2DCO04gylAm0CANjzw2",
      "project": "1LKnSUcwfygGRwMdp9tM",
      "version": 1
     },
     "outputId": null
    }
   },
   "outputs": [],
   "source": [
    "import pandas as pd\n",
    "import numpy as np\n",
    "# import proplot as plot\n",
    "import matplotlib.pyplot as plt\n",
    "import verde as vd\n",
    "import pyproj\n",
    "import plotly.express as px\n",
    "from pathlib import Path"
   ]
  },
  {
   "cell_type": "code",
   "execution_count": 2,
   "metadata": {
    "iooxa": {
     "id": {
      "block": "fewXaNvdbGTKUZ9ezmt4",
      "project": "1LKnSUcwfygGRwMdp9tM",
      "version": 1
     },
     "outputId": null
    }
   },
   "outputs": [],
   "source": [
    "wells_path = Path('data/CSV_GOL_SONDAGE/')"
   ]
  },
  {
   "cell_type": "code",
   "execution_count": 154,
   "metadata": {
    "iooxa": {
     "id": {
      "block": "4PwUIjHX6Q8sObHTOScl",
      "project": "1LKnSUcwfygGRwMdp9tM",
      "version": 1
     },
     "outputId": {
      "block": "nXV7DLnIDAI6OHEEciSy",
      "project": "1LKnSUcwfygGRwMdp9tM",
      "version": 1
     }
    }
   },
   "outputs": [
    {
     "name": "stdout",
     "output_type": "stream",
     "text": [
      "<class 'pandas.core.frame.DataFrame'>\n",
      "RangeIndex: 18988 entries, 0 to 18987\n",
      "Data columns (total 12 columns):\n",
      " #   Column      Non-Null Count  Dtype  \n",
      "---  ------      --------------  -----  \n",
      " 0   X           18988 non-null  float64\n",
      " 1   Y           18988 non-null  float64\n",
      " 2   ANNEE       18988 non-null  object \n",
      " 3   AUTEUR      18106 non-null  object \n",
      " 4   HTN         16641 non-null  object \n",
      " 5   PROFONDEUR  18987 non-null  object \n",
      " 6   MOLASSE     18982 non-null  float64\n",
      " 7   ALLUV_ANC   18988 non-null  float64\n",
      " 8   RISS        18988 non-null  float64\n",
      " 9   HYDROLOGIE  10133 non-null  object \n",
      " 10  easting     18988 non-null  float64\n",
      " 11  northing    18988 non-null  float64\n",
      "dtypes: float64(7), object(5)\n",
      "memory usage: 1.7+ MB\n"
     ]
    }
   ],
   "source": [
    "wells_path = Path('data/CSV_GOL_SONDAGE/')\n",
    "wells = pd.read_csv(wells_path / 'GOL_sondage_xy.csv', usecols=['X', 'Y','ANNEE','AUTEUR','HTN','PROFONDEUR','MOLASSE','ALLUV_ANC','RISS','HYDROLOGIE'], na_values=['Non','Oui','NaN'])\n",
    "# wells[['PROFONDEUR']].apply(pd.to_numeric)\n",
    "projection = pyproj.Proj(\"epsg:2056\")\n",
    "projection_back = pyproj.Proj(\"epsg:4326\")\n",
    "wells[\"easting\"], wells[\"northing\"] = projection(wells.X.values, wells.Y.values)\n",
    "wells.head()\n",
    "wells.info()"
   ]
  },
  {
   "cell_type": "code",
   "execution_count": 155,
   "metadata": {
    "iooxa": {
     "id": {
      "block": "q9sx0TzHr0e7LkEHRIw1",
      "project": "1LKnSUcwfygGRwMdp9tM",
      "version": 2
     },
     "outputId": {
      "block": "4UIX9bl7M4hkduTfP8fZ",
      "project": "1LKnSUcwfygGRwMdp9tM",
      "version": 2
     }
    }
   },
   "outputs": [
    {
     "name": "stdout",
     "output_type": "stream",
     "text": [
      "<class 'pandas.core.frame.DataFrame'>\n",
      "Int64Index: 3208 entries, 7 to 18980\n",
      "Data columns (total 12 columns):\n",
      " #   Column      Non-Null Count  Dtype  \n",
      "---  ------      --------------  -----  \n",
      " 0   X           3208 non-null   float64\n",
      " 1   Y           3208 non-null   float64\n",
      " 2   ANNEE       3208 non-null   object \n",
      " 3   AUTEUR      3178 non-null   object \n",
      " 4   HTN         3065 non-null   object \n",
      " 5   PROFONDEUR  3207 non-null   object \n",
      " 6   MOLASSE     3208 non-null   float64\n",
      " 7   ALLUV_ANC   3208 non-null   float64\n",
      " 8   RISS        3208 non-null   float64\n",
      " 9   HYDROLOGIE  1117 non-null   object \n",
      " 10  easting     3208 non-null   float64\n",
      " 11  northing    3208 non-null   float64\n",
      "dtypes: float64(7), object(5)\n",
      "memory usage: 325.8+ KB\n"
     ]
    }
   ],
   "source": [
    "wells_molasse = wells[wells['MOLASSE'].notnull()]\n",
    "wells_molasse = wells_molasse[wells_molasse.MOLASSE > 100]\n",
    "wells_molasse.info()"
   ]
  },
  {
   "cell_type": "code",
   "execution_count": 156,
   "metadata": {
    "iooxa": {
     "id": {
      "block": "xmXFbIBdSFPgKlH04Yyp",
      "project": "1LKnSUcwfygGRwMdp9tM",
      "version": 2
     },
     "outputId": {
      "block": "Hi0sf4fNEVu3ccxUWA5z",
      "project": "1LKnSUcwfygGRwMdp9tM",
      "version": 2
     }
    }
   },
   "outputs": [
    {
     "data": {
      "text/plain": [
       "(array([ 15.,  34.,  22.,  33.,  18.,   5.,  13.,   5.,   3.,   7.,   8.,\n",
       "         22.,  39.,  81., 150., 280., 426., 397., 325., 370., 335., 323.,\n",
       "        137.,  96.,  44.,  12.,   2.,   2.,   3.,   1.]),\n",
       " array([100.8       , 116.73666667, 132.67333333, 148.61      ,\n",
       "        164.54666667, 180.48333333, 196.42      , 212.35666667,\n",
       "        228.29333333, 244.23      , 260.16666667, 276.10333333,\n",
       "        292.04      , 307.97666667, 323.91333333, 339.85      ,\n",
       "        355.78666667, 371.72333333, 387.66      , 403.59666667,\n",
       "        419.53333333, 435.47      , 451.40666667, 467.34333333,\n",
       "        483.28      , 499.21666667, 515.15333333, 531.09      ,\n",
       "        547.02666667, 562.96333333, 578.9       ]),\n",
       " <BarContainer object of 30 artists>)"
      ]
     },
     "execution_count": 156,
     "metadata": {},
     "output_type": "execute_result"
    },
    {
     "data": {
      "image/png": "[encoded data removed]",
      "text/plain": [
       "<Figure size 432x288 with 1 Axes>"
      ]
     },
     "metadata": {
      "needs_background": "light"
     },
     "output_type": "display_data"
    }
   ],
   "source": [
    "plt.hist(wells_molasse.MOLASSE.values, bins=30)"
   ]
  },
  {
   "cell_type": "code",
   "execution_count": null,
   "metadata": {},
   "outputs": [],
   "source": []
  },
  {
   "cell_type": "code",
   "execution_count": 162,
   "metadata": {
    "iooxa": {
     "id": {
      "block": "YQwc9FooWNW8W5QedaYf",
      "project": "1LKnSUcwfygGRwMdp9tM",
      "version": 2
     },
     "outputId": {
      "block": "DXXKchQUYCtgXoNWz01M",
      "project": "1LKnSUcwfygGRwMdp9tM",
      "version": 2
     }
    }
   },
   "outputs": [
    {
     "name": "stdout",
     "output_type": "stream",
     "text": [
      "<class 'pandas.core.frame.DataFrame'>\n",
      "Int64Index: 946 entries, 34 to 18980\n",
      "Data columns (total 12 columns):\n",
      " #   Column      Non-Null Count  Dtype  \n",
      "---  ------      --------------  -----  \n",
      " 0   X           946 non-null    float64\n",
      " 1   Y           946 non-null    float64\n",
      " 2   ANNEE       946 non-null    object \n",
      " 3   AUTEUR      946 non-null    object \n",
      " 4   HTN         946 non-null    float64\n",
      " 5   PROFONDEUR  946 non-null    object \n",
      " 6   MOLASSE     946 non-null    float64\n",
      " 7   ALLUV_ANC   946 non-null    float64\n",
      " 8   RISS        946 non-null    float64\n",
      " 9   HYDROLOGIE  946 non-null    object \n",
      " 10  easting     946 non-null    float64\n",
      " 11  northing    946 non-null    float64\n",
      "dtypes: float64(8), object(4)\n",
      "memory usage: 96.1+ KB\n"
     ]
    },
    {
     "data": {
      "text/plain": [
       "<matplotlib.collections.PathCollection at 0x7f9ec1974b80>"
      ]
     },
     "execution_count": 162,
     "metadata": {},
     "output_type": "execute_result"
    },
    {
     "data": {
      "image/png": "[encoded data removed]",
      "text/plain": [
       "<Figure size 432x288 with 1 Axes>"
      ]
     },
     "metadata": {
      "needs_background": "light"
     },
     "output_type": "display_data"
    }
   ],
   "source": [
    "GE_easting_min, GE_northing_min = projection(5.95734632286982, 46.1286483681685)\n",
    "GE_easting_max, GE_northing_max = projection(6.30991821721357, 46.3162418011751)\n",
    "region = [GE_easting_min,GE_easting_max,GE_northing_min,GE_northing_max]\n",
    "# region_satigny = [2491990, 2493324, 1119170, 1120420]\n",
    "wells_molasse_GE = wells_molasse[vd.inside((wells_molasse.easting, wells_molasse.northing), region)]\n",
    "\n",
    "wells_molasse_GE = wells_molasse_GE.dropna()\n",
    "wells_molasse_GE['HTN'] = pd.to_numeric(wells_molasse_GE.HTN)\n",
    "wells_molasse_GE.info()\n",
    "plt.scatter(wells_molasse_GE.easting, wells_molasse_GE.northing, c=wells_molasse_GE.HTN)"
   ]
  },
  {
   "cell_type": "code",
   "execution_count": 163,
   "metadata": {
    "iooxa": {
     "id": {
      "block": "QabxoWpOnz7WfCgLxEhe",
      "project": "1LKnSUcwfygGRwMdp9tM",
      "version": 2
     },
     "outputId": {
      "block": "rhLAX2ar5WMbHRQ6tZRg",
      "project": "1LKnSUcwfygGRwMdp9tM",
      "version": 2
     }
    }
   },
   "outputs": [
    {
     "data": {
      "image/png": "[encoded data removed]",
      "text/plain": [
       "<Figure size 432x288 with 1 Axes>"
      ]
     },
     "metadata": {
      "needs_background": "light"
     },
     "output_type": "display_data"
    }
   ],
   "source": [
    "reducer = vd.BlockReduce(reduction=np.median, spacing=200)\n",
    "coordinates, (molasse, HTN) = reducer.filter(\n",
    "    (wells_molasse_GE.easting, wells_molasse_GE.northing), (wells_molasse_GE.MOLASSE, wells_molasse_GE.HTN)\n",
    ")\n",
    "plt.scatter(coordinates[0], coordinates[1], c=molasse, s=1, cmap='RdBu', vmin=0, vmax=600)\n",
    "wells_molasse_GE_red = pd.DataFrame({'X':coordinates[0], 'Y':coordinates[1], 'Molasse': molasse, 'HTN':HTN})\n",
    "wells_molasse_GE_red.describe().T\n",
    "wells_molasse_GE_red.to_csv(wells_path / 'GOL_sondage_xy_red.csv')"
   ]
  },
  {
   "cell_type": "code",
   "execution_count": 121,
   "metadata": {
    "iooxa": {
     "id": {
      "block": "huI60ZAtqV38RswNQFyj",
      "project": "1LKnSUcwfygGRwMdp9tM",
      "version": 1
     },
     "outputId": null
    }
   },
   "outputs": [],
   "source": [
    "from sklearn.gaussian_process.kernels import RBF, Matern\n",
    "\n",
    "# kernel = RBF(length_scale=1000)\n",
    "kernel = 0.1 * Matern(length_scale=1000, nu=0.5)"
   ]
  },
  {
   "cell_type": "code",
   "execution_count": 122,
   "metadata": {
    "iooxa": {
     "id": {
      "block": "hqjBiNOz08ge2pRhP4lC",
      "project": "1LKnSUcwfygGRwMdp9tM",
      "version": 1
     },
     "outputId": null
    }
   },
   "outputs": [],
   "source": [
    "grid_easting, grid_northing = vd.grid_coordinates(region=region, spacing=200)\n",
    "grid_long, grid_lat = projection(grid_easting.ravel(), grid_northing.ravel(), inverse=True)"
   ]
  },
  {
   "cell_type": "code",
   "execution_count": 123,
   "metadata": {
    "iooxa": {
     "id": {
      "block": "k1Oc9t5eP78C6Pc3V8ad",
      "project": "1LKnSUcwfygGRwMdp9tM",
      "version": 2
     },
     "outputId": {
      "block": "gaZRL1u9oDwA5DWxoMrB",
      "project": "1LKnSUcwfygGRwMdp9tM",
      "version": 2
     }
    }
   },
   "outputs": [
    {
     "data": {
      "text/plain": [
       "(103, 139)"
      ]
     },
     "execution_count": 123,
     "metadata": {},
     "output_type": "execute_result"
    }
   ],
   "source": [
    "grid_easting.shape"
   ]
  },
  {
   "cell_type": "code",
   "execution_count": 124,
   "metadata": {
    "iooxa": {
     "id": {
      "block": "myJEjKUbWxSGs2Jpx8J6",
      "project": "1LKnSUcwfygGRwMdp9tM",
      "version": 2
     },
     "outputId": {
      "block": "NoOHkzUz54XAQEXYlx6A",
      "project": "1LKnSUcwfygGRwMdp9tM",
      "version": 2
     }
    }
   },
   "outputs": [
    {
     "name": "stderr",
     "output_type": "stream",
     "text": [
      "/Users/lorenzoperozzi/opt/anaconda3/envs/gemgis/lib/python3.9/site-packages/sklearn/gaussian_process/kernels.py:1689: RuntimeWarning: invalid value encountered in true_divide\n",
      "  K_gradient = K[..., np.newaxis] * D \\\n",
      "/Users/lorenzoperozzi/opt/anaconda3/envs/gemgis/lib/python3.9/site-packages/sklearn/gaussian_process/kernels.py:411: ConvergenceWarning: The optimal value found for dimension 0 of parameter k1__constant_value is close to the specified upper bound 100000.0. Increasing the bound and calling fit again may find a better value.\n",
      "  warnings.warn(\"The optimal value found for \"\n"
     ]
    },
    {
     "data": {
      "text/plain": [
       "GaussianProcessRegressor(alpha=0.1,\n",
       "                         kernel=1**2 * Matern(length_scale=1e+03, nu=0.5))"
      ]
     },
     "execution_count": 124,
     "metadata": {},
     "output_type": "execute_result"
    }
   ],
   "source": [
    "from sklearn.gaussian_process import GaussianProcessRegressor\n",
    "from sklearn.gaussian_process.kernels import RBF, Matern\n",
    "\n",
    "kernel = 1 * Matern(length_scale=1000, nu=0.5)\n",
    "# kernel = RBF(length_scale=1000)\n",
    "\n",
    "gp = GaussianProcessRegressor(normalize_y=False,\n",
    "                              alpha=0.1,  # Larger values imply more noise in the input data.\n",
    "                              kernel=kernel,)\n",
    "\n",
    "gp.fit(wells_molasse_GE_red[['X', 'Y']].values, wells_molasse_GE_red.Molasse)"
   ]
  },
  {
   "cell_type": "code",
   "execution_count": 125,
   "metadata": {
    "iooxa": {
     "id": {
      "block": "PlfUNjWpznFne8ki2TMR",
      "project": "1LKnSUcwfygGRwMdp9tM",
      "version": 2
     },
     "outputId": {
      "block": "jqCBR1g1ICLbKwl3NqKi",
      "project": "1LKnSUcwfygGRwMdp9tM",
      "version": 2
     }
    }
   },
   "outputs": [
    {
     "data": {
      "text/plain": [
       "(14317, 2)"
      ]
     },
     "execution_count": 125,
     "metadata": {},
     "output_type": "execute_result"
    }
   ],
   "source": [
    "grid_GP = np.stack([grid_easting.ravel(), grid_northing.ravel()]).T\n",
    "# y_grid = gp.predict(X_grid).reshape(grid_x.shape)\n",
    "grid_GP.shape"
   ]
  },
  {
   "cell_type": "code",
   "execution_count": 126,
   "metadata": {},
   "outputs": [
    {
     "data": {
      "text/plain": [
       "array([2491990.        , 2492015.16981132, 2492040.33962264, ...,\n",
       "       2493273.66037736, 2493298.83018868, 2493324.        ])"
      ]
     },
     "execution_count": 126,
     "metadata": {},
     "output_type": "execute_result"
    }
   ],
   "source": [
    "easting.ravel()"
   ]
  },
  {
   "cell_type": "code",
   "execution_count": 127,
   "metadata": {},
   "outputs": [
    {
     "data": {
      "text/plain": [
       "(2754, 2)"
      ]
     },
     "execution_count": 127,
     "metadata": {},
     "output_type": "execute_result"
    }
   ],
   "source": [
    "easting, northing = vd.grid_coordinates(region=region_satigny, spacing=25)\n",
    "grid_GP = np.stack([easting.ravel(), northing.ravel()]).T\n",
    "grid_GP.shape"
   ]
  },
  {
   "cell_type": "code",
   "execution_count": 128,
   "metadata": {},
   "outputs": [
    {
     "data": {
      "text/plain": [
       "array([[2491990.        , 2492015.16981132, 2492040.33962264, ...,\n",
       "        2493273.66037736, 2493298.83018868, 2493324.        ],\n",
       "       [2491990.        , 2492015.16981132, 2492040.33962264, ...,\n",
       "        2493273.66037736, 2493298.83018868, 2493324.        ],\n",
       "       [2491990.        , 2492015.16981132, 2492040.33962264, ...,\n",
       "        2493273.66037736, 2493298.83018868, 2493324.        ],\n",
       "       ...,\n",
       "       [2491990.        , 2492015.16981132, 2492040.33962264, ...,\n",
       "        2493273.66037736, 2493298.83018868, 2493324.        ],\n",
       "       [2491990.        , 2492015.16981132, 2492040.33962264, ...,\n",
       "        2493273.66037736, 2493298.83018868, 2493324.        ],\n",
       "       [2491990.        , 2492015.16981132, 2492040.33962264, ...,\n",
       "        2493273.66037736, 2493298.83018868, 2493324.        ]])"
      ]
     },
     "execution_count": 128,
     "metadata": {},
     "output_type": "execute_result"
    }
   ],
   "source": [
    "easting"
   ]
  },
  {
   "cell_type": "code",
   "execution_count": 129,
   "metadata": {},
   "outputs": [
    {
     "data": {
      "text/plain": [
       "array([[2491990.        , 1119170.        ],\n",
       "       [2492015.16981132, 1119170.        ],\n",
       "       [2492040.33962264, 1119170.        ],\n",
       "       ...,\n",
       "       [2493273.66037736, 1120420.        ],\n",
       "       [2493298.83018868, 1120420.        ],\n",
       "       [2493324.        , 1120420.        ]])"
      ]
     },
     "execution_count": 129,
     "metadata": {},
     "output_type": "execute_result"
    }
   ],
   "source": [
    "grid_GP"
   ]
  },
  {
   "cell_type": "code",
   "execution_count": 130,
   "metadata": {
    "iooxa": {
     "id": {
      "block": "2Q1XBVQrgi9bm9u2wQQs",
      "project": "1LKnSUcwfygGRwMdp9tM",
      "version": 1
     },
     "outputId": null
    }
   },
   "outputs": [],
   "source": [
    "grid_GP = pd.DataFrame({'X':grid_GP[:,0], 'Y':grid_GP[:,1], 'Toit_Molasse': gp.predict(grid_GP)})\n",
    "grid_GP.set_index(['Y','X'], inplace=True)\n",
    "grid_GP = grid_GP.to_xarray()"
   ]
  },
  {
   "cell_type": "code",
   "execution_count": 131,
   "metadata": {
    "iooxa": {
     "id": {
      "block": "6G9Ibt0xDBvYfE5LVCny",
      "project": "1LKnSUcwfygGRwMdp9tM",
      "version": 2
     },
     "outputId": {
      "block": "1SzY9gwxcX4lUUEdyQpd",
      "project": "1LKnSUcwfygGRwMdp9tM",
      "version": 2
     }
    }
   },
   "outputs": [
    {
     "data": {
      "text/html": [
       "<div><svg style=\"position: absolute; width: 0; height: 0; overflow: hidden\">\n",
       "<defs>\n",
       "<symbol id=\"icon-database\" viewBox=\"0 0 32 32\">\n",
       "<path d=\"M16 0c-8.837 0-16 2.239-16 5v4c0 2.761 7.163 5 16 5s16-2.239 16-5v-4c0-2.761-7.163-5-16-5z\"></path>\n",
       "<path d=\"M16 17c-8.837 0-16-2.239-16-5v6c0 2.761 7.163 5 16 5s16-2.239 16-5v-6c0 2.761-7.163 5-16 5z\"></path>\n",
       "<path d=\"M16 26c-8.837 0-16-2.239-16-5v6c0 2.761 7.163 5 16 5s16-2.239 16-5v-6c0 2.761-7.163 5-16 5z\"></path>\n",
       "</symbol>\n",
       "<symbol id=\"icon-file-text2\" viewBox=\"0 0 32 32\">\n",
       "<path d=\"M28.681 7.159c-0.694-0.947-1.662-2.053-2.724-3.116s-2.169-2.030-3.116-2.724c-1.612-1.182-2.393-1.319-2.841-1.319h-15.5c-1.378 0-2.5 1.121-2.5 2.5v27c0 1.378 1.122 2.5 2.5 2.5h23c1.378 0 2.5-1.122 2.5-2.5v-19.5c0-0.448-0.137-1.23-1.319-2.841zM24.543 5.457c0.959 0.959 1.712 1.825 2.268 2.543h-4.811v-4.811c0.718 0.556 1.584 1.309 2.543 2.268zM28 29.5c0 0.271-0.229 0.5-0.5 0.5h-23c-0.271 0-0.5-0.229-0.5-0.5v-27c0-0.271 0.229-0.5 0.5-0.5 0 0 15.499-0 15.5 0v7c0 0.552 0.448 1 1 1h7v19.5z\"></path>\n",
       "<path d=\"M23 26h-14c-0.552 0-1-0.448-1-1s0.448-1 1-1h14c0.552 0 1 0.448 1 1s-0.448 1-1 1z\"></path>\n",
       "<path d=\"M23 22h-14c-0.552 0-1-0.448-1-1s0.448-1 1-1h14c0.552 0 1 0.448 1 1s-0.448 1-1 1z\"></path>\n",
       "<path d=\"M23 18h-14c-0.552 0-1-0.448-1-1s0.448-1 1-1h14c0.552 0 1 0.448 1 1s-0.448 1-1 1z\"></path>\n",
       "</symbol>\n",
       "</defs>\n",
       "</svg>\n",
       "<style>/* CSS stylesheet for displaying xarray objects in jupyterlab.\n",
       " *\n",
       " */\n",
       "\n",
       ":root {\n",
       "  --xr-font-color0: var(--jp-content-font-color0, rgba(0, 0, 0, 1));\n",
       "  --xr-font-color2: var(--jp-content-font-color2, rgba(0, 0, 0, 0.54));\n",
       "  --xr-font-color3: var(--jp-content-font-color3, rgba(0, 0, 0, 0.38));\n",
       "  --xr-border-color: var(--jp-border-color2, #e0e0e0);\n",
       "  --xr-disabled-color: var(--jp-layout-color3, #bdbdbd);\n",
       "  --xr-background-color: var(--jp-layout-color0, white);\n",
       "  --xr-background-color-row-even: var(--jp-layout-color1, white);\n",
       "  --xr-background-color-row-odd: var(--jp-layout-color2, #eeeeee);\n",
       "}\n",
       "\n",
       "html[theme=dark],\n",
       "body.vscode-dark {\n",
       "  --xr-font-color0: rgba(255, 255, 255, 1);\n",
       "  --xr-font-color2: rgba(255, 255, 255, 0.54);\n",
       "  --xr-font-color3: rgba(255, 255, 255, 0.38);\n",
       "  --xr-border-color: #1F1F1F;\n",
       "  --xr-disabled-color: #515151;\n",
       "  --xr-background-color: #111111;\n",
       "  --xr-background-color-row-even: #111111;\n",
       "  --xr-background-color-row-odd: #313131;\n",
       "}\n",
       "\n",
       ".xr-wrap {\n",
       "  display: block;\n",
       "  min-width: 300px;\n",
       "  max-width: 700px;\n",
       "}\n",
       "\n",
       ".xr-text-repr-fallback {\n",
       "  /* fallback to plain text repr when CSS is not injected (untrusted notebook) */\n",
       "  display: none;\n",
       "}\n",
       "\n",
       ".xr-header {\n",
       "  padding-top: 6px;\n",
       "  padding-bottom: 6px;\n",
       "  margin-bottom: 4px;\n",
       "  border-bottom: solid 1px var(--xr-border-color);\n",
       "}\n",
       "\n",
       ".xr-header > div,\n",
       ".xr-header > ul {\n",
       "  display: inline;\n",
       "  margin-top: 0;\n",
       "  margin-bottom: 0;\n",
       "}\n",
       "\n",
       ".xr-obj-type,\n",
       ".xr-array-name {\n",
       "  margin-left: 2px;\n",
       "  margin-right: 10px;\n",
       "}\n",
       "\n",
       ".xr-obj-type {\n",
       "  color: var(--xr-font-color2);\n",
       "}\n",
       "\n",
       ".xr-sections {\n",
       "  padding-left: 0 !important;\n",
       "  display: grid;\n",
       "  grid-template-columns: 150px auto auto 1fr 20px 20px;\n",
       "}\n",
       "\n",
       ".xr-section-item {\n",
       "  display: contents;\n",
       "}\n",
       "\n",
       ".xr-section-item input {\n",
       "  display: none;\n",
       "}\n",
       "\n",
       ".xr-section-item input + label {\n",
       "  color: var(--xr-disabled-color);\n",
       "}\n",
       "\n",
       ".xr-section-item input:enabled + label {\n",
       "  cursor: pointer;\n",
       "  color: var(--xr-font-color2);\n",
       "}\n",
       "\n",
       ".xr-section-item input:enabled + label:hover {\n",
       "  color: var(--xr-font-color0);\n",
       "}\n",
       "\n",
       ".xr-section-summary {\n",
       "  grid-column: 1;\n",
       "  color: var(--xr-font-color2);\n",
       "  font-weight: 500;\n",
       "}\n",
       "\n",
       ".xr-section-summary > span {\n",
       "  display: inline-block;\n",
       "  padding-left: 0.5em;\n",
       "}\n",
       "\n",
       ".xr-section-summary-in:disabled + label {\n",
       "  color: var(--xr-font-color2);\n",
       "}\n",
       "\n",
       ".xr-section-summary-in + label:before {\n",
       "  display: inline-block;\n",
       "  content: '►';\n",
       "  font-size: 11px;\n",
       "  width: 15px;\n",
       "  text-align: center;\n",
       "}\n",
       "\n",
       ".xr-section-summary-in:disabled + label:before {\n",
       "  color: var(--xr-disabled-color);\n",
       "}\n",
       "\n",
       ".xr-section-summary-in:checked + label:before {\n",
       "  content: '▼';\n",
       "}\n",
       "\n",
       ".xr-section-summary-in:checked + label > span {\n",
       "  display: none;\n",
       "}\n",
       "\n",
       ".xr-section-summary,\n",
       ".xr-section-inline-details {\n",
       "  padding-top: 4px;\n",
       "  padding-bottom: 4px;\n",
       "}\n",
       "\n",
       ".xr-section-inline-details {\n",
       "  grid-column: 2 / -1;\n",
       "}\n",
       "\n",
       ".xr-section-details {\n",
       "  display: none;\n",
       "  grid-column: 1 / -1;\n",
       "  margin-bottom: 5px;\n",
       "}\n",
       "\n",
       ".xr-section-summary-in:checked ~ .xr-section-details {\n",
       "  display: contents;\n",
       "}\n",
       "\n",
       ".xr-array-wrap {\n",
       "  grid-column: 1 / -1;\n",
       "  display: grid;\n",
       "  grid-template-columns: 20px auto;\n",
       "}\n",
       "\n",
       ".xr-array-wrap > label {\n",
       "  grid-column: 1;\n",
       "  vertical-align: top;\n",
       "}\n",
       "\n",
       ".xr-preview {\n",
       "  color: var(--xr-font-color3);\n",
       "}\n",
       "\n",
       ".xr-array-preview,\n",
       ".xr-array-data {\n",
       "  padding: 0 5px !important;\n",
       "  grid-column: 2;\n",
       "}\n",
       "\n",
       ".xr-array-data,\n",
       ".xr-array-in:checked ~ .xr-array-preview {\n",
       "  display: none;\n",
       "}\n",
       "\n",
       ".xr-array-in:checked ~ .xr-array-data,\n",
       ".xr-array-preview {\n",
       "  display: inline-block;\n",
       "}\n",
       "\n",
       ".xr-dim-list {\n",
       "  display: inline-block !important;\n",
       "  list-style: none;\n",
       "  padding: 0 !important;\n",
       "  margin: 0;\n",
       "}\n",
       "\n",
       ".xr-dim-list li {\n",
       "  display: inline-block;\n",
       "  padding: 0;\n",
       "  margin: 0;\n",
       "}\n",
       "\n",
       ".xr-dim-list:before {\n",
       "  content: '(';\n",
       "}\n",
       "\n",
       ".xr-dim-list:after {\n",
       "  content: ')';\n",
       "}\n",
       "\n",
       ".xr-dim-list li:not(:last-child):after {\n",
       "  content: ',';\n",
       "  padding-right: 5px;\n",
       "}\n",
       "\n",
       ".xr-has-index {\n",
       "  font-weight: bold;\n",
       "}\n",
       "\n",
       ".xr-var-list,\n",
       ".xr-var-item {\n",
       "  display: contents;\n",
       "}\n",
       "\n",
       ".xr-var-item > div,\n",
       ".xr-var-item label,\n",
       ".xr-var-item > .xr-var-name span {\n",
       "  background-color: var(--xr-background-color-row-even);\n",
       "  margin-bottom: 0;\n",
       "}\n",
       "\n",
       ".xr-var-item > .xr-var-name:hover span {\n",
       "  padding-right: 5px;\n",
       "}\n",
       "\n",
       ".xr-var-list > li:nth-child(odd) > div,\n",
       ".xr-var-list > li:nth-child(odd) > label,\n",
       ".xr-var-list > li:nth-child(odd) > .xr-var-name span {\n",
       "  background-color: var(--xr-background-color-row-odd);\n",
       "}\n",
       "\n",
       ".xr-var-name {\n",
       "  grid-column: 1;\n",
       "}\n",
       "\n",
       ".xr-var-dims {\n",
       "  grid-column: 2;\n",
       "}\n",
       "\n",
       ".xr-var-dtype {\n",
       "  grid-column: 3;\n",
       "  text-align: right;\n",
       "  color: var(--xr-font-color2);\n",
       "}\n",
       "\n",
       ".xr-var-preview {\n",
       "  grid-column: 4;\n",
       "}\n",
       "\n",
       ".xr-var-name,\n",
       ".xr-var-dims,\n",
       ".xr-var-dtype,\n",
       ".xr-preview,\n",
       ".xr-attrs dt {\n",
       "  white-space: nowrap;\n",
       "  overflow: hidden;\n",
       "  text-overflow: ellipsis;\n",
       "  padding-right: 10px;\n",
       "}\n",
       "\n",
       ".xr-var-name:hover,\n",
       ".xr-var-dims:hover,\n",
       ".xr-var-dtype:hover,\n",
       ".xr-attrs dt:hover {\n",
       "  overflow: visible;\n",
       "  width: auto;\n",
       "  z-index: 1;\n",
       "}\n",
       "\n",
       ".xr-var-attrs,\n",
       ".xr-var-data {\n",
       "  display: none;\n",
       "  background-color: var(--xr-background-color) !important;\n",
       "  padding-bottom: 5px !important;\n",
       "}\n",
       "\n",
       ".xr-var-attrs-in:checked ~ .xr-var-attrs,\n",
       ".xr-var-data-in:checked ~ .xr-var-data {\n",
       "  display: block;\n",
       "}\n",
       "\n",
       ".xr-var-data > table {\n",
       "  float: right;\n",
       "}\n",
       "\n",
       ".xr-var-name span,\n",
       ".xr-var-data,\n",
       ".xr-attrs {\n",
       "  padding-left: 25px !important;\n",
       "}\n",
       "\n",
       ".xr-attrs,\n",
       ".xr-var-attrs,\n",
       ".xr-var-data {\n",
       "  grid-column: 1 / -1;\n",
       "}\n",
       "\n",
       "dl.xr-attrs {\n",
       "  padding: 0;\n",
       "  margin: 0;\n",
       "  display: grid;\n",
       "  grid-template-columns: 125px auto;\n",
       "}\n",
       "\n",
       ".xr-attrs dt,\n",
       ".xr-attrs dd {\n",
       "  padding: 0;\n",
       "  margin: 0;\n",
       "  float: left;\n",
       "  padding-right: 10px;\n",
       "  width: auto;\n",
       "}\n",
       "\n",
       ".xr-attrs dt {\n",
       "  font-weight: normal;\n",
       "  grid-column: 1;\n",
       "}\n",
       "\n",
       ".xr-attrs dt:hover span {\n",
       "  display: inline-block;\n",
       "  background: var(--xr-background-color);\n",
       "  padding-right: 10px;\n",
       "}\n",
       "\n",
       ".xr-attrs dd {\n",
       "  grid-column: 2;\n",
       "  white-space: pre-wrap;\n",
       "  word-break: break-all;\n",
       "}\n",
       "\n",
       ".xr-icon-database,\n",
       ".xr-icon-file-text2 {\n",
       "  display: inline-block;\n",
       "  vertical-align: middle;\n",
       "  width: 1em;\n",
       "  height: 1.5em !important;\n",
       "  stroke-width: 0;\n",
       "  stroke: currentColor;\n",
       "  fill: currentColor;\n",
       "}\n",
       "</style><pre class='xr-text-repr-fallback'>&lt;xarray.Dataset&gt;\n",
       "Dimensions:       (X: 54, Y: 51)\n",
       "Coordinates:\n",
       "  * Y             (Y) float64 1.119e+06 1.119e+06 ... 1.12e+06 1.12e+06\n",
       "  * X             (X) float64 2.492e+06 2.492e+06 ... 2.493e+06 2.493e+06\n",
       "Data variables:\n",
       "    Toit_Molasse  (Y, X) float64 401.4 403.4 405.1 406.6 ... 403.7 403.2 402.7</pre><div class='xr-wrap' hidden><div class='xr-header'><div class='xr-obj-type'>xarray.Dataset</div></div><ul class='xr-sections'><li class='xr-section-item'><input id='section-e7a98ecb-c77b-4c1d-ad16-4f79dc76a040' class='xr-section-summary-in' type='checkbox' disabled ><label for='section-e7a98ecb-c77b-4c1d-ad16-4f79dc76a040' class='xr-section-summary'  title='Expand/collapse section'>Dimensions:</label><div class='xr-section-inline-details'><ul class='xr-dim-list'><li><span class='xr-has-index'>X</span>: 54</li><li><span class='xr-has-index'>Y</span>: 51</li></ul></div><div class='xr-section-details'></div></li><li class='xr-section-item'><input id='section-201710b8-93d4-45a6-b8a8-e13445c6628c' class='xr-section-summary-in' type='checkbox'  checked><label for='section-201710b8-93d4-45a6-b8a8-e13445c6628c' class='xr-section-summary' >Coordinates: <span>(2)</span></label><div class='xr-section-inline-details'></div><div class='xr-section-details'><ul class='xr-var-list'><li class='xr-var-item'><div class='xr-var-name'><span class='xr-has-index'>Y</span></div><div class='xr-var-dims'>(Y)</div><div class='xr-var-dtype'>float64</div><div class='xr-var-preview xr-preview'>1.119e+06 1.119e+06 ... 1.12e+06</div><input id='attrs-e41c67f8-874f-4e67-8994-ab5183d2c58e' class='xr-var-attrs-in' type='checkbox' disabled><label for='attrs-e41c67f8-874f-4e67-8994-ab5183d2c58e' title='Show/Hide attributes'><svg class='icon xr-icon-file-text2'><use xlink:href='#icon-file-text2'></use></svg></label><input id='data-332e49f8-cc42-42df-b698-48025edb2111' class='xr-var-data-in' type='checkbox'><label for='data-332e49f8-cc42-42df-b698-48025edb2111' title='Show/Hide data repr'><svg class='icon xr-icon-database'><use xlink:href='#icon-database'></use></svg></label><div class='xr-var-attrs'><dl class='xr-attrs'></dl></div><div class='xr-var-data'><pre>array([1119170., 1119195., 1119220., 1119245., 1119270., 1119295., 1119320.,\n",
       "       1119345., 1119370., 1119395., 1119420., 1119445., 1119470., 1119495.,\n",
       "       1119520., 1119545., 1119570., 1119595., 1119620., 1119645., 1119670.,\n",
       "       1119695., 1119720., 1119745., 1119770., 1119795., 1119820., 1119845.,\n",
       "       1119870., 1119895., 1119920., 1119945., 1119970., 1119995., 1120020.,\n",
       "       1120045., 1120070., 1120095., 1120120., 1120145., 1120170., 1120195.,\n",
       "       1120220., 1120245., 1120270., 1120295., 1120320., 1120345., 1120370.,\n",
       "       1120395., 1120420.])</pre></div></li><li class='xr-var-item'><div class='xr-var-name'><span class='xr-has-index'>X</span></div><div class='xr-var-dims'>(X)</div><div class='xr-var-dtype'>float64</div><div class='xr-var-preview xr-preview'>2.492e+06 2.492e+06 ... 2.493e+06</div><input id='attrs-465ef09f-473d-4a1b-b359-b83e1003e7d5' class='xr-var-attrs-in' type='checkbox' disabled><label for='attrs-465ef09f-473d-4a1b-b359-b83e1003e7d5' title='Show/Hide attributes'><svg class='icon xr-icon-file-text2'><use xlink:href='#icon-file-text2'></use></svg></label><input id='data-f8fa6a5b-f314-40cd-8d55-e64947c9211e' class='xr-var-data-in' type='checkbox'><label for='data-f8fa6a5b-f314-40cd-8d55-e64947c9211e' title='Show/Hide data repr'><svg class='icon xr-icon-database'><use xlink:href='#icon-database'></use></svg></label><div class='xr-var-attrs'><dl class='xr-attrs'></dl></div><div class='xr-var-data'><pre>array([2491990.      , 2492015.169811, 2492040.339623, 2492065.509434,\n",
       "       2492090.679245, 2492115.849057, 2492141.018868, 2492166.188679,\n",
       "       2492191.358491, 2492216.528302, 2492241.698113, 2492266.867925,\n",
       "       2492292.037736, 2492317.207547, 2492342.377358, 2492367.54717 ,\n",
       "       2492392.716981, 2492417.886792, 2492443.056604, 2492468.226415,\n",
       "       2492493.396226, 2492518.566038, 2492543.735849, 2492568.90566 ,\n",
       "       2492594.075472, 2492619.245283, 2492644.415094, 2492669.584906,\n",
       "       2492694.754717, 2492719.924528, 2492745.09434 , 2492770.264151,\n",
       "       2492795.433962, 2492820.603774, 2492845.773585, 2492870.943396,\n",
       "       2492896.113208, 2492921.283019, 2492946.45283 , 2492971.622642,\n",
       "       2492996.792453, 2493021.962264, 2493047.132075, 2493072.301887,\n",
       "       2493097.471698, 2493122.641509, 2493147.811321, 2493172.981132,\n",
       "       2493198.150943, 2493223.320755, 2493248.490566, 2493273.660377,\n",
       "       2493298.830189, 2493324.      ])</pre></div></li></ul></div></li><li class='xr-section-item'><input id='section-b9958916-b3cd-411c-8154-5abc8dfac8e1' class='xr-section-summary-in' type='checkbox'  checked><label for='section-b9958916-b3cd-411c-8154-5abc8dfac8e1' class='xr-section-summary' >Data variables: <span>(1)</span></label><div class='xr-section-inline-details'></div><div class='xr-section-details'><ul class='xr-var-list'><li class='xr-var-item'><div class='xr-var-name'><span>Toit_Molasse</span></div><div class='xr-var-dims'>(Y, X)</div><div class='xr-var-dtype'>float64</div><div class='xr-var-preview xr-preview'>401.4 403.4 405.1 ... 403.2 402.7</div><input id='attrs-95647337-a876-48f1-997e-35826d36a589' class='xr-var-attrs-in' type='checkbox' disabled><label for='attrs-95647337-a876-48f1-997e-35826d36a589' title='Show/Hide attributes'><svg class='icon xr-icon-file-text2'><use xlink:href='#icon-file-text2'></use></svg></label><input id='data-6328081f-66a5-40d8-b679-d4e66b0ad67d' class='xr-var-data-in' type='checkbox'><label for='data-6328081f-66a5-40d8-b679-d4e66b0ad67d' title='Show/Hide data repr'><svg class='icon xr-icon-database'><use xlink:href='#icon-database'></use></svg></label><div class='xr-var-attrs'><dl class='xr-attrs'></dl></div><div class='xr-var-data'><pre>array([[401.41589094, 403.35643262, 405.06950358, ..., 363.80228756,\n",
       "        362.39406447, 360.94948409],\n",
       "       [403.92221323, 405.57414216, 407.1237337 , ..., 364.48614684,\n",
       "        363.0850572 , 361.64599223],\n",
       "       [406.29886301, 407.66780316, 409.007726  , ..., 365.21744234,\n",
       "        363.826919  , 362.39686574],\n",
       "       ...,\n",
       "       [409.51981494, 411.74349683, 413.74867803, ..., 401.58653178,\n",
       "        401.20695911, 400.86548514],\n",
       "       [409.48354743, 411.68976605, 413.69029128, ..., 402.63090085,\n",
       "        402.19214508, 401.78629373],\n",
       "       [409.60477472, 411.78863415, 413.77859329, ..., 403.66436478,\n",
       "        403.16662512, 402.69660355]])</pre></div></li></ul></div></li><li class='xr-section-item'><input id='section-0edbbd27-631a-4bf7-885b-74dd3bba3c44' class='xr-section-summary-in' type='checkbox' disabled ><label for='section-0edbbd27-631a-4bf7-885b-74dd3bba3c44' class='xr-section-summary'  title='Expand/collapse section'>Attributes: <span>(0)</span></label><div class='xr-section-inline-details'></div><div class='xr-section-details'><dl class='xr-attrs'></dl></div></li></ul></div></div>"
      ],
      "text/plain": [
       "<xarray.Dataset>\n",
       "Dimensions:       (X: 54, Y: 51)\n",
       "Coordinates:\n",
       "  * Y             (Y) float64 1.119e+06 1.119e+06 ... 1.12e+06 1.12e+06\n",
       "  * X             (X) float64 2.492e+06 2.492e+06 ... 2.493e+06 2.493e+06\n",
       "Data variables:\n",
       "    Toit_Molasse  (Y, X) float64 401.4 403.4 405.1 406.6 ... 403.7 403.2 402.7"
      ]
     },
     "execution_count": 131,
     "metadata": {},
     "output_type": "execute_result"
    }
   ],
   "source": [
    "grid_GP"
   ]
  },
  {
   "cell_type": "code",
   "execution_count": 132,
   "metadata": {
    "iooxa": {
     "id": {
      "block": "nqtY6XN4jAVnOi7aXEBl",
      "project": "1LKnSUcwfygGRwMdp9tM",
      "version": 2
     },
     "outputId": {
      "block": "3HE3gmGvuznJ0FkY4WWN",
      "project": "1LKnSUcwfygGRwMdp9tM",
      "version": 2
     }
    }
   },
   "outputs": [
    {
     "data": {
      "text/plain": [
       "<matplotlib.collections.QuadMesh at 0x7f9ebb29ea30>"
      ]
     },
     "execution_count": 132,
     "metadata": {},
     "output_type": "execute_result"
    },
    {
     "data": {
      "image/png": "[encoded data removed]",
      "text/plain": [
       "<Figure size 432x288 with 2 Axes>"
      ]
     },
     "metadata": {
      "needs_background": "light"
     },
     "output_type": "display_data"
    }
   ],
   "source": [
    "grid_GP.Toit_Molasse.plot.pcolormesh(levels=500, \n",
    "#                                      vmin=0, vmax=600, \n",
    "                                     cmap='RdBu')\n"
   ]
  },
  {
   "cell_type": "code",
   "execution_count": 141,
   "metadata": {},
   "outputs": [],
   "source": [
    "spline = vd.Spline(damping=1e-6, mindist=500)\n",
    "spline.fit((wells_molasse_GE_red.X, wells_molasse_GE_red.Y), wells_molasse_GE_red.Molasse)\n",
    "grid_verde = spline.grid(region=region_satigny, spacing=25, )"
   ]
  },
  {
   "cell_type": "code",
   "execution_count": 142,
   "metadata": {},
   "outputs": [
    {
     "data": {
      "text/plain": [
       "<matplotlib.collections.QuadMesh at 0x7f9ebed38190>"
      ]
     },
     "execution_count": 142,
     "metadata": {},
     "output_type": "execute_result"
    },
    {
     "data": {
      "image/png": "[encoded data removed]",
      "text/plain": [
       "<Figure size 432x288 with 2 Axes>"
      ]
     },
     "metadata": {
      "needs_background": "light"
     },
     "output_type": "display_data"
    }
   ],
   "source": [
    "grid_verde.scalars.plot(cmap='RdBu')"
   ]
  },
  {
   "cell_type": "code",
   "execution_count": 139,
   "metadata": {},
   "outputs": [
    {
     "data": {
      "text/html": [
       "<div><svg style=\"position: absolute; width: 0; height: 0; overflow: hidden\">\n",
       "<defs>\n",
       "<symbol id=\"icon-database\" viewBox=\"0 0 32 32\">\n",
       "<path d=\"M16 0c-8.837 0-16 2.239-16 5v4c0 2.761 7.163 5 16 5s16-2.239 16-5v-4c0-2.761-7.163-5-16-5z\"></path>\n",
       "<path d=\"M16 17c-8.837 0-16-2.239-16-5v6c0 2.761 7.163 5 16 5s16-2.239 16-5v-6c0 2.761-7.163 5-16 5z\"></path>\n",
       "<path d=\"M16 26c-8.837 0-16-2.239-16-5v6c0 2.761 7.163 5 16 5s16-2.239 16-5v-6c0 2.761-7.163 5-16 5z\"></path>\n",
       "</symbol>\n",
       "<symbol id=\"icon-file-text2\" viewBox=\"0 0 32 32\">\n",
       "<path d=\"M28.681 7.159c-0.694-0.947-1.662-2.053-2.724-3.116s-2.169-2.030-3.116-2.724c-1.612-1.182-2.393-1.319-2.841-1.319h-15.5c-1.378 0-2.5 1.121-2.5 2.5v27c0 1.378 1.122 2.5 2.5 2.5h23c1.378 0 2.5-1.122 2.5-2.5v-19.5c0-0.448-0.137-1.23-1.319-2.841zM24.543 5.457c0.959 0.959 1.712 1.825 2.268 2.543h-4.811v-4.811c0.718 0.556 1.584 1.309 2.543 2.268zM28 29.5c0 0.271-0.229 0.5-0.5 0.5h-23c-0.271 0-0.5-0.229-0.5-0.5v-27c0-0.271 0.229-0.5 0.5-0.5 0 0 15.499-0 15.5 0v7c0 0.552 0.448 1 1 1h7v19.5z\"></path>\n",
       "<path d=\"M23 26h-14c-0.552 0-1-0.448-1-1s0.448-1 1-1h14c0.552 0 1 0.448 1 1s-0.448 1-1 1z\"></path>\n",
       "<path d=\"M23 22h-14c-0.552 0-1-0.448-1-1s0.448-1 1-1h14c0.552 0 1 0.448 1 1s-0.448 1-1 1z\"></path>\n",
       "<path d=\"M23 18h-14c-0.552 0-1-0.448-1-1s0.448-1 1-1h14c0.552 0 1 0.448 1 1s-0.448 1-1 1z\"></path>\n",
       "</symbol>\n",
       "</defs>\n",
       "</svg>\n",
       "<style>/* CSS stylesheet for displaying xarray objects in jupyterlab.\n",
       " *\n",
       " */\n",
       "\n",
       ":root {\n",
       "  --xr-font-color0: var(--jp-content-font-color0, rgba(0, 0, 0, 1));\n",
       "  --xr-font-color2: var(--jp-content-font-color2, rgba(0, 0, 0, 0.54));\n",
       "  --xr-font-color3: var(--jp-content-font-color3, rgba(0, 0, 0, 0.38));\n",
       "  --xr-border-color: var(--jp-border-color2, #e0e0e0);\n",
       "  --xr-disabled-color: var(--jp-layout-color3, #bdbdbd);\n",
       "  --xr-background-color: var(--jp-layout-color0, white);\n",
       "  --xr-background-color-row-even: var(--jp-layout-color1, white);\n",
       "  --xr-background-color-row-odd: var(--jp-layout-color2, #eeeeee);\n",
       "}\n",
       "\n",
       "html[theme=dark],\n",
       "body.vscode-dark {\n",
       "  --xr-font-color0: rgba(255, 255, 255, 1);\n",
       "  --xr-font-color2: rgba(255, 255, 255, 0.54);\n",
       "  --xr-font-color3: rgba(255, 255, 255, 0.38);\n",
       "  --xr-border-color: #1F1F1F;\n",
       "  --xr-disabled-color: #515151;\n",
       "  --xr-background-color: #111111;\n",
       "  --xr-background-color-row-even: #111111;\n",
       "  --xr-background-color-row-odd: #313131;\n",
       "}\n",
       "\n",
       ".xr-wrap {\n",
       "  display: block;\n",
       "  min-width: 300px;\n",
       "  max-width: 700px;\n",
       "}\n",
       "\n",
       ".xr-text-repr-fallback {\n",
       "  /* fallback to plain text repr when CSS is not injected (untrusted notebook) */\n",
       "  display: none;\n",
       "}\n",
       "\n",
       ".xr-header {\n",
       "  padding-top: 6px;\n",
       "  padding-bottom: 6px;\n",
       "  margin-bottom: 4px;\n",
       "  border-bottom: solid 1px var(--xr-border-color);\n",
       "}\n",
       "\n",
       ".xr-header > div,\n",
       ".xr-header > ul {\n",
       "  display: inline;\n",
       "  margin-top: 0;\n",
       "  margin-bottom: 0;\n",
       "}\n",
       "\n",
       ".xr-obj-type,\n",
       ".xr-array-name {\n",
       "  margin-left: 2px;\n",
       "  margin-right: 10px;\n",
       "}\n",
       "\n",
       ".xr-obj-type {\n",
       "  color: var(--xr-font-color2);\n",
       "}\n",
       "\n",
       ".xr-sections {\n",
       "  padding-left: 0 !important;\n",
       "  display: grid;\n",
       "  grid-template-columns: 150px auto auto 1fr 20px 20px;\n",
       "}\n",
       "\n",
       ".xr-section-item {\n",
       "  display: contents;\n",
       "}\n",
       "\n",
       ".xr-section-item input {\n",
       "  display: none;\n",
       "}\n",
       "\n",
       ".xr-section-item input + label {\n",
       "  color: var(--xr-disabled-color);\n",
       "}\n",
       "\n",
       ".xr-section-item input:enabled + label {\n",
       "  cursor: pointer;\n",
       "  color: var(--xr-font-color2);\n",
       "}\n",
       "\n",
       ".xr-section-item input:enabled + label:hover {\n",
       "  color: var(--xr-font-color0);\n",
       "}\n",
       "\n",
       ".xr-section-summary {\n",
       "  grid-column: 1;\n",
       "  color: var(--xr-font-color2);\n",
       "  font-weight: 500;\n",
       "}\n",
       "\n",
       ".xr-section-summary > span {\n",
       "  display: inline-block;\n",
       "  padding-left: 0.5em;\n",
       "}\n",
       "\n",
       ".xr-section-summary-in:disabled + label {\n",
       "  color: var(--xr-font-color2);\n",
       "}\n",
       "\n",
       ".xr-section-summary-in + label:before {\n",
       "  display: inline-block;\n",
       "  content: '►';\n",
       "  font-size: 11px;\n",
       "  width: 15px;\n",
       "  text-align: center;\n",
       "}\n",
       "\n",
       ".xr-section-summary-in:disabled + label:before {\n",
       "  color: var(--xr-disabled-color);\n",
       "}\n",
       "\n",
       ".xr-section-summary-in:checked + label:before {\n",
       "  content: '▼';\n",
       "}\n",
       "\n",
       ".xr-section-summary-in:checked + label > span {\n",
       "  display: none;\n",
       "}\n",
       "\n",
       ".xr-section-summary,\n",
       ".xr-section-inline-details {\n",
       "  padding-top: 4px;\n",
       "  padding-bottom: 4px;\n",
       "}\n",
       "\n",
       ".xr-section-inline-details {\n",
       "  grid-column: 2 / -1;\n",
       "}\n",
       "\n",
       ".xr-section-details {\n",
       "  display: none;\n",
       "  grid-column: 1 / -1;\n",
       "  margin-bottom: 5px;\n",
       "}\n",
       "\n",
       ".xr-section-summary-in:checked ~ .xr-section-details {\n",
       "  display: contents;\n",
       "}\n",
       "\n",
       ".xr-array-wrap {\n",
       "  grid-column: 1 / -1;\n",
       "  display: grid;\n",
       "  grid-template-columns: 20px auto;\n",
       "}\n",
       "\n",
       ".xr-array-wrap > label {\n",
       "  grid-column: 1;\n",
       "  vertical-align: top;\n",
       "}\n",
       "\n",
       ".xr-preview {\n",
       "  color: var(--xr-font-color3);\n",
       "}\n",
       "\n",
       ".xr-array-preview,\n",
       ".xr-array-data {\n",
       "  padding: 0 5px !important;\n",
       "  grid-column: 2;\n",
       "}\n",
       "\n",
       ".xr-array-data,\n",
       ".xr-array-in:checked ~ .xr-array-preview {\n",
       "  display: none;\n",
       "}\n",
       "\n",
       ".xr-array-in:checked ~ .xr-array-data,\n",
       ".xr-array-preview {\n",
       "  display: inline-block;\n",
       "}\n",
       "\n",
       ".xr-dim-list {\n",
       "  display: inline-block !important;\n",
       "  list-style: none;\n",
       "  padding: 0 !important;\n",
       "  margin: 0;\n",
       "}\n",
       "\n",
       ".xr-dim-list li {\n",
       "  display: inline-block;\n",
       "  padding: 0;\n",
       "  margin: 0;\n",
       "}\n",
       "\n",
       ".xr-dim-list:before {\n",
       "  content: '(';\n",
       "}\n",
       "\n",
       ".xr-dim-list:after {\n",
       "  content: ')';\n",
       "}\n",
       "\n",
       ".xr-dim-list li:not(:last-child):after {\n",
       "  content: ',';\n",
       "  padding-right: 5px;\n",
       "}\n",
       "\n",
       ".xr-has-index {\n",
       "  font-weight: bold;\n",
       "}\n",
       "\n",
       ".xr-var-list,\n",
       ".xr-var-item {\n",
       "  display: contents;\n",
       "}\n",
       "\n",
       ".xr-var-item > div,\n",
       ".xr-var-item label,\n",
       ".xr-var-item > .xr-var-name span {\n",
       "  background-color: var(--xr-background-color-row-even);\n",
       "  margin-bottom: 0;\n",
       "}\n",
       "\n",
       ".xr-var-item > .xr-var-name:hover span {\n",
       "  padding-right: 5px;\n",
       "}\n",
       "\n",
       ".xr-var-list > li:nth-child(odd) > div,\n",
       ".xr-var-list > li:nth-child(odd) > label,\n",
       ".xr-var-list > li:nth-child(odd) > .xr-var-name span {\n",
       "  background-color: var(--xr-background-color-row-odd);\n",
       "}\n",
       "\n",
       ".xr-var-name {\n",
       "  grid-column: 1;\n",
       "}\n",
       "\n",
       ".xr-var-dims {\n",
       "  grid-column: 2;\n",
       "}\n",
       "\n",
       ".xr-var-dtype {\n",
       "  grid-column: 3;\n",
       "  text-align: right;\n",
       "  color: var(--xr-font-color2);\n",
       "}\n",
       "\n",
       ".xr-var-preview {\n",
       "  grid-column: 4;\n",
       "}\n",
       "\n",
       ".xr-var-name,\n",
       ".xr-var-dims,\n",
       ".xr-var-dtype,\n",
       ".xr-preview,\n",
       ".xr-attrs dt {\n",
       "  white-space: nowrap;\n",
       "  overflow: hidden;\n",
       "  text-overflow: ellipsis;\n",
       "  padding-right: 10px;\n",
       "}\n",
       "\n",
       ".xr-var-name:hover,\n",
       ".xr-var-dims:hover,\n",
       ".xr-var-dtype:hover,\n",
       ".xr-attrs dt:hover {\n",
       "  overflow: visible;\n",
       "  width: auto;\n",
       "  z-index: 1;\n",
       "}\n",
       "\n",
       ".xr-var-attrs,\n",
       ".xr-var-data {\n",
       "  display: none;\n",
       "  background-color: var(--xr-background-color) !important;\n",
       "  padding-bottom: 5px !important;\n",
       "}\n",
       "\n",
       ".xr-var-attrs-in:checked ~ .xr-var-attrs,\n",
       ".xr-var-data-in:checked ~ .xr-var-data {\n",
       "  display: block;\n",
       "}\n",
       "\n",
       ".xr-var-data > table {\n",
       "  float: right;\n",
       "}\n",
       "\n",
       ".xr-var-name span,\n",
       ".xr-var-data,\n",
       ".xr-attrs {\n",
       "  padding-left: 25px !important;\n",
       "}\n",
       "\n",
       ".xr-attrs,\n",
       ".xr-var-attrs,\n",
       ".xr-var-data {\n",
       "  grid-column: 1 / -1;\n",
       "}\n",
       "\n",
       "dl.xr-attrs {\n",
       "  padding: 0;\n",
       "  margin: 0;\n",
       "  display: grid;\n",
       "  grid-template-columns: 125px auto;\n",
       "}\n",
       "\n",
       ".xr-attrs dt,\n",
       ".xr-attrs dd {\n",
       "  padding: 0;\n",
       "  margin: 0;\n",
       "  float: left;\n",
       "  padding-right: 10px;\n",
       "  width: auto;\n",
       "}\n",
       "\n",
       ".xr-attrs dt {\n",
       "  font-weight: normal;\n",
       "  grid-column: 1;\n",
       "}\n",
       "\n",
       ".xr-attrs dt:hover span {\n",
       "  display: inline-block;\n",
       "  background: var(--xr-background-color);\n",
       "  padding-right: 10px;\n",
       "}\n",
       "\n",
       ".xr-attrs dd {\n",
       "  grid-column: 2;\n",
       "  white-space: pre-wrap;\n",
       "  word-break: break-all;\n",
       "}\n",
       "\n",
       ".xr-icon-database,\n",
       ".xr-icon-file-text2 {\n",
       "  display: inline-block;\n",
       "  vertical-align: middle;\n",
       "  width: 1em;\n",
       "  height: 1.5em !important;\n",
       "  stroke-width: 0;\n",
       "  stroke: currentColor;\n",
       "  fill: currentColor;\n",
       "}\n",
       "</style><pre class='xr-text-repr-fallback'>&lt;xarray.Dataset&gt;\n",
       "Dimensions:   (easting: 54, northing: 51)\n",
       "Coordinates:\n",
       "  * easting   (easting) float64 2.492e+06 2.492e+06 ... 2.493e+06 2.493e+06\n",
       "  * northing  (northing) float64 1.119e+06 1.119e+06 ... 1.12e+06 1.12e+06\n",
       "Data variables:\n",
       "    scalars   (northing, easting) float64 399.7 401.1 402.7 ... 403.1 402.6\n",
       "Attributes:\n",
       "    metadata:  Generated by Spline(damping=1e-06, mindist=500)</pre><div class='xr-wrap' hidden><div class='xr-header'><div class='xr-obj-type'>xarray.Dataset</div></div><ul class='xr-sections'><li class='xr-section-item'><input id='section-237b0f7c-0cc2-429c-8eb1-ebcd42354132' class='xr-section-summary-in' type='checkbox' disabled ><label for='section-237b0f7c-0cc2-429c-8eb1-ebcd42354132' class='xr-section-summary'  title='Expand/collapse section'>Dimensions:</label><div class='xr-section-inline-details'><ul class='xr-dim-list'><li><span class='xr-has-index'>easting</span>: 54</li><li><span class='xr-has-index'>northing</span>: 51</li></ul></div><div class='xr-section-details'></div></li><li class='xr-section-item'><input id='section-d90388d1-9711-4c79-a553-425287db899d' class='xr-section-summary-in' type='checkbox'  checked><label for='section-d90388d1-9711-4c79-a553-425287db899d' class='xr-section-summary' >Coordinates: <span>(2)</span></label><div class='xr-section-inline-details'></div><div class='xr-section-details'><ul class='xr-var-list'><li class='xr-var-item'><div class='xr-var-name'><span class='xr-has-index'>easting</span></div><div class='xr-var-dims'>(easting)</div><div class='xr-var-dtype'>float64</div><div class='xr-var-preview xr-preview'>2.492e+06 2.492e+06 ... 2.493e+06</div><input id='attrs-050cfd7d-89c0-4801-a6cf-2affb5d96252' class='xr-var-attrs-in' type='checkbox' disabled><label for='attrs-050cfd7d-89c0-4801-a6cf-2affb5d96252' title='Show/Hide attributes'><svg class='icon xr-icon-file-text2'><use xlink:href='#icon-file-text2'></use></svg></label><input id='data-5fbd4a18-f270-4acb-99c0-b08a614d0648' class='xr-var-data-in' type='checkbox'><label for='data-5fbd4a18-f270-4acb-99c0-b08a614d0648' title='Show/Hide data repr'><svg class='icon xr-icon-database'><use xlink:href='#icon-database'></use></svg></label><div class='xr-var-attrs'><dl class='xr-attrs'></dl></div><div class='xr-var-data'><pre>array([2491990.      , 2492015.169811, 2492040.339623, 2492065.509434,\n",
       "       2492090.679245, 2492115.849057, 2492141.018868, 2492166.188679,\n",
       "       2492191.358491, 2492216.528302, 2492241.698113, 2492266.867925,\n",
       "       2492292.037736, 2492317.207547, 2492342.377358, 2492367.54717 ,\n",
       "       2492392.716981, 2492417.886792, 2492443.056604, 2492468.226415,\n",
       "       2492493.396226, 2492518.566038, 2492543.735849, 2492568.90566 ,\n",
       "       2492594.075472, 2492619.245283, 2492644.415094, 2492669.584906,\n",
       "       2492694.754717, 2492719.924528, 2492745.09434 , 2492770.264151,\n",
       "       2492795.433962, 2492820.603774, 2492845.773585, 2492870.943396,\n",
       "       2492896.113208, 2492921.283019, 2492946.45283 , 2492971.622642,\n",
       "       2492996.792453, 2493021.962264, 2493047.132075, 2493072.301887,\n",
       "       2493097.471698, 2493122.641509, 2493147.811321, 2493172.981132,\n",
       "       2493198.150943, 2493223.320755, 2493248.490566, 2493273.660377,\n",
       "       2493298.830189, 2493324.      ])</pre></div></li><li class='xr-var-item'><div class='xr-var-name'><span class='xr-has-index'>northing</span></div><div class='xr-var-dims'>(northing)</div><div class='xr-var-dtype'>float64</div><div class='xr-var-preview xr-preview'>1.119e+06 1.119e+06 ... 1.12e+06</div><input id='attrs-9bfede19-1085-4c75-8f69-6a47004e595d' class='xr-var-attrs-in' type='checkbox' disabled><label for='attrs-9bfede19-1085-4c75-8f69-6a47004e595d' title='Show/Hide attributes'><svg class='icon xr-icon-file-text2'><use xlink:href='#icon-file-text2'></use></svg></label><input id='data-d0e26b24-4bd9-43d1-853c-fdf463c537b1' class='xr-var-data-in' type='checkbox'><label for='data-d0e26b24-4bd9-43d1-853c-fdf463c537b1' title='Show/Hide data repr'><svg class='icon xr-icon-database'><use xlink:href='#icon-database'></use></svg></label><div class='xr-var-attrs'><dl class='xr-attrs'></dl></div><div class='xr-var-data'><pre>array([1119170., 1119195., 1119220., 1119245., 1119270., 1119295., 1119320.,\n",
       "       1119345., 1119370., 1119395., 1119420., 1119445., 1119470., 1119495.,\n",
       "       1119520., 1119545., 1119570., 1119595., 1119620., 1119645., 1119670.,\n",
       "       1119695., 1119720., 1119745., 1119770., 1119795., 1119820., 1119845.,\n",
       "       1119870., 1119895., 1119920., 1119945., 1119970., 1119995., 1120020.,\n",
       "       1120045., 1120070., 1120095., 1120120., 1120145., 1120170., 1120195.,\n",
       "       1120220., 1120245., 1120270., 1120295., 1120320., 1120345., 1120370.,\n",
       "       1120395., 1120420.])</pre></div></li></ul></div></li><li class='xr-section-item'><input id='section-7cb1e3f4-ee98-4a2e-94b8-0429f0b7c187' class='xr-section-summary-in' type='checkbox'  checked><label for='section-7cb1e3f4-ee98-4a2e-94b8-0429f0b7c187' class='xr-section-summary' >Data variables: <span>(1)</span></label><div class='xr-section-inline-details'></div><div class='xr-section-details'><ul class='xr-var-list'><li class='xr-var-item'><div class='xr-var-name'><span>scalars</span></div><div class='xr-var-dims'>(northing, easting)</div><div class='xr-var-dtype'>float64</div><div class='xr-var-preview xr-preview'>399.7 401.1 402.7 ... 403.1 402.6</div><input id='attrs-d86b99f2-267a-402d-90c9-5c4c41a02eaa' class='xr-var-attrs-in' type='checkbox' ><label for='attrs-d86b99f2-267a-402d-90c9-5c4c41a02eaa' title='Show/Hide attributes'><svg class='icon xr-icon-file-text2'><use xlink:href='#icon-file-text2'></use></svg></label><input id='data-98121e86-cbf8-41e4-83c8-c42ee55f09ff' class='xr-var-data-in' type='checkbox'><label for='data-98121e86-cbf8-41e4-83c8-c42ee55f09ff' title='Show/Hide data repr'><svg class='icon xr-icon-database'><use xlink:href='#icon-database'></use></svg></label><div class='xr-var-attrs'><dl class='xr-attrs'><dt><span>metadata :</span></dt><dd>Generated by Spline(damping=1e-06, mindist=500)</dd></dl></div><div class='xr-var-data'><pre>array([[399.65874778, 401.14484171, 402.66311535, ..., 371.0843926 ,\n",
       "        369.75202119, 368.37723588],\n",
       "       [402.4592053 , 403.74899471, 405.09599836, ..., 371.52046999,\n",
       "        370.19115087, 368.81832724],\n",
       "       [405.1406029 , 406.22638985, 407.3826088 , ..., 371.99862675,\n",
       "        370.67560481, 369.30807772],\n",
       "       ...,\n",
       "       [409.39675713, 411.44255395, 413.29545537, ..., 401.76270481,\n",
       "        401.33845724, 400.96606493],\n",
       "       [409.40328547, 411.43230728, 413.27985928, ..., 402.70369554,\n",
       "        402.22484578, 401.79480714],\n",
       "       [409.55384597, 411.56239402, 413.39997222, ..., 403.62150754,\n",
       "        403.08522706, 402.59514515]])</pre></div></li></ul></div></li><li class='xr-section-item'><input id='section-96c81f05-12c9-4a5c-9d15-d8c692b72712' class='xr-section-summary-in' type='checkbox'  checked><label for='section-96c81f05-12c9-4a5c-9d15-d8c692b72712' class='xr-section-summary' >Attributes: <span>(1)</span></label><div class='xr-section-inline-details'></div><div class='xr-section-details'><dl class='xr-attrs'><dt><span>metadata :</span></dt><dd>Generated by Spline(damping=1e-06, mindist=500)</dd></dl></div></li></ul></div></div>"
      ],
      "text/plain": [
       "<xarray.Dataset>\n",
       "Dimensions:   (easting: 54, northing: 51)\n",
       "Coordinates:\n",
       "  * easting   (easting) float64 2.492e+06 2.492e+06 ... 2.493e+06 2.493e+06\n",
       "  * northing  (northing) float64 1.119e+06 1.119e+06 ... 1.12e+06 1.12e+06\n",
       "Data variables:\n",
       "    scalars   (northing, easting) float64 399.7 401.1 402.7 ... 403.1 402.6\n",
       "Attributes:\n",
       "    metadata:  Generated by Spline(damping=1e-06, mindist=500)"
      ]
     },
     "execution_count": 139,
     "metadata": {},
     "output_type": "execute_result"
    }
   ],
   "source": [
    "grid_verde"
   ]
  },
  {
   "cell_type": "code",
   "execution_count": null,
   "metadata": {},
   "outputs": [],
   "source": []
  }
 ],
 "metadata": {
  "iooxa": {
   "id": {
    "block": "AuTDfNJzmLBGsrUUzUKE",
    "project": "1LKnSUcwfygGRwMdp9tM",
    "version": 2
   }
  },
  "kernelspec": {
   "display_name": "gemgis",
   "language": "python",
   "name": "gemgis"
  },
  "language_info": {
   "codemirror_mode": {
    "name": "ipython",
    "version": 3
   },
   "file_extension": ".py",
   "mimetype": "text/x-python",
   "name": "python",
   "nbconvert_exporter": "python",
   "pygments_lexer": "ipython3",
   "version": "3.9.0"
  }
 },
 "nbformat": 4,
 "nbformat_minor": 4
}
